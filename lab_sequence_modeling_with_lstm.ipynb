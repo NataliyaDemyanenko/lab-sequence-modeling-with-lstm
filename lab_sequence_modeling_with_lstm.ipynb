{
  "cells": [
    {
      "cell_type": "markdown",
      "metadata": {
        "id": "S8pyhaVGJRiz"
      },
      "source": [
        "# Lab | Sequence Modeling with LSTM"
      ]
    },
    {
      "cell_type": "code",
      "execution_count": 1,
      "metadata": {
        "id": "hmA6EzkQJ5jt",
        "tags": []
      },
      "outputs": [],
      "source": [
        "import json\n",
        "import tensorflow as tf\n",
        "import csv\n",
        "import random\n",
        "import numpy as np\n",
        "\n",
        "from tensorflow.keras.preprocessing.text import Tokenizer\n",
        "from tensorflow.keras.preprocessing.sequence import pad_sequences\n",
        "from tensorflow.keras.utils import to_categorical\n",
        "from tensorflow.keras import regularizers\n",
        "\n",
        "\n",
        "embedding_dim = 100\n",
        "max_length = 16\n",
        "trunc_type='post'\n",
        "padding_type='post'\n",
        "oov_tok = \"<OOV>\"\n",
        "training_size= 160000 #Your dataset size here. Experiment using smaller values (i.e. 16000), but don't forget to train on at least 160000 to see the best effects\n",
        "test_portion=.1\n",
        "\n",
        "corpus = []\n"
      ]
    },
    {
      "cell_type": "code",
      "execution_count": 2,
      "metadata": {
        "colab": {
          "base_uri": "https://localhost:8080/"
        },
        "id": "bM0l_dORKqE0",
        "outputId": "88cd1572-4524-4c77-b43a-66d477875280"
      },
      "outputs": [
        {
          "output_type": "stream",
          "name": "stdout",
          "text": [
            "Number of sentences: 1600000\n",
            "Length of corpus: 1600000\n",
            "Corpus sample item: [\"is upset that he can't update his Facebook by texting it... and might cry as a result  School today also. Blah!\", 0]\n"
          ]
        }
      ],
      "source": [
        "#!wget --no-check-certificate \\\n",
        "   # https://storage.googleapis.com/laurencemoroney-blog.appspot.com/training_cleaned.csv \\\n",
        "    #-O /tmp/training_cleaned.csv\n",
        "\n",
        "file_path = \"training.1600000.processed.noemoticon.csv\"\n",
        "num_sentences = 0\n",
        "\n",
        "with open(file_path, encoding='utf-8', errors='replace') as csvfile:\n",
        "    reader = csv.reader(csvfile, delimiter=',')\n",
        "    for row in reader:\n",
        "      # Your Code here. Create list items where the first item is the text, found in row[5], and the second is the label. Note that the label is a '0' or a '4' in the text. When it's the former, make\n",
        "      # your label to be 0, otherwise 1. Keep a count of the number of sentences in num_sentences\n",
        "        # YOUR CODE HERE\n",
        "        if len(row) >= 6:\n",
        "          list_item=[]\n",
        "          text = row[5]\n",
        "          label = 0 if row[0] == '0' else 1\n",
        "          list_item = [text, label]\n",
        "\n",
        "          num_sentences = num_sentences + 1\n",
        "          corpus.append(list_item)\n",
        "        else:\n",
        "            # Debug: Print a message when a row is skipped\n",
        "            print(f\"Skipping row due to insufficient columns: {row}\")\n",
        "\n",
        "# Print the results\n",
        "print(f\"Number of sentences: {num_sentences}\")\n",
        "print(f\"Length of corpus: {len(corpus)}\")\n",
        "print(f\"Corpus sample item: {corpus[1]}\")\n"
      ]
    },
    {
      "cell_type": "code",
      "execution_count": 3,
      "metadata": {
        "colab": {
          "base_uri": "https://localhost:8080/"
        },
        "id": "3kxblBUjEUX-",
        "outputId": "c2b1b02d-78bb-446b-f6cc-1d91ed6acbdf"
      },
      "outputs": [
        {
          "output_type": "stream",
          "name": "stdout",
          "text": [
            "1600000\n",
            "1600000\n",
            "[\"is upset that he can't update his Facebook by texting it... and might cry as a result  School today also. Blah!\", 0]\n"
          ]
        }
      ],
      "source": [
        "print(num_sentences)\n",
        "print(len(corpus))\n",
        "print(corpus[1])\n",
        "\n",
        "# Expected Output:\n",
        "# 1600000\n",
        "# 1600000\n",
        "# [\"is upset that he can't update his Facebook by texting it... and might cry as a result  School today also. Blah!\", 0]"
      ]
    },
    {
      "cell_type": "code",
      "execution_count": 23,
      "metadata": {
        "id": "ohOGz24lsNAD"
      },
      "outputs": [],
      "source": [
        "#Create lists for sentences and labels\n",
        "sentences=[]\n",
        "labels=[]\n",
        "random.shuffle(corpus)\n",
        "for x in range(training_size):\n",
        "    sentences.append(corpus[x][0])\n",
        "    labels.append(corpus[x][1])\n",
        "\n",
        "#Tokenize\n",
        "tokenizer = Tokenizer()\n",
        "tokenizer.fit_on_texts(sentences)\n",
        "\n",
        "#Calculate vocabulary size\n",
        "word_index = tokenizer.word_index\n",
        "vocab_size=len(word_index)\n",
        "\n",
        "max_length = 16\n",
        "\n",
        "#Convert a list of texts into a list of sequences where each sequence is a list of integers\n",
        "sequences = tokenizer.texts_to_sequences(sentences)\n",
        "#Pad to ensure same length\n",
        "padded = pad_sequences(sequences, maxlen=max_length, padding='post')\n",
        "\n",
        "split = int(test_portion * training_size)\n",
        "\n",
        "test_sequences = padded[:split]\n",
        "training_sequences = padded[split:]\n",
        "test_labels = labels[:split]\n",
        "training_labels = labels[split:]"
      ]
    },
    {
      "cell_type": "code",
      "execution_count": 24,
      "metadata": {
        "colab": {
          "base_uri": "https://localhost:8080/"
        },
        "id": "gIrtRem1En3N",
        "outputId": "966443bb-4970-41a6-9e73-5aac98f75513"
      },
      "outputs": [
        {
          "output_type": "stream",
          "name": "stdout",
          "text": [
            "138570\n",
            "1\n"
          ]
        }
      ],
      "source": [
        "print(vocab_size)\n",
        "print(word_index['i'])\n",
        "# Expected Output\n",
        "# 138858\n",
        "# 1"
      ]
    },
    {
      "cell_type": "code",
      "execution_count": 25,
      "metadata": {
        "id": "C1zdgJkusRh0"
      },
      "outputs": [],
      "source": [
        "# Note this is the 100 dimension version of GloVe from Stanford\n",
        "# I unzipped and hosted it on my site to make this notebook easier\n",
        "#!wget --no-check-certificate \\\n",
        "#    https://storage.googleapis.com/laurencemoroney-blog.appspot.com/glove.6B.100d.txt \\\n",
        "#    -O /tmp/glove.6B.100d.txt\n",
        "#embeddings_index = {};\n",
        "with open('glove.6B.100d.txt') as f:\n",
        "    for line in f:\n",
        "        values = line.split();\n",
        "        word = values[0];\n",
        "        coefs = np.asarray(values[1:], dtype='float32');\n",
        "        embeddings_index[word] = coefs;\n",
        "\n",
        "embeddings_matrix = np.zeros((vocab_size+1, embedding_dim));\n",
        "for word, i in word_index.items():\n",
        "    embedding_vector = embeddings_index.get(word);\n",
        "    if embedding_vector is not None:\n",
        "        if len(embedding_vector) == embedding_dim:\n",
        "            embeddings_matrix[i] = embedding_vector"
      ]
    },
    {
      "cell_type": "code",
      "execution_count": 26,
      "metadata": {
        "colab": {
          "base_uri": "https://localhost:8080/"
        },
        "id": "71NLk_lpFLNt",
        "outputId": "04f2a1e4-e494-4ee6-efb9-c364c7acbb18"
      },
      "outputs": [
        {
          "output_type": "stream",
          "name": "stdout",
          "text": [
            "138571\n"
          ]
        }
      ],
      "source": [
        "print(len(embeddings_matrix))\n",
        "# Expected Output\n",
        "# 138859"
      ]
    },
    {
      "cell_type": "code",
      "execution_count": 31,
      "metadata": {
        "id": "iKKvbuEBOGFz"
      },
      "outputs": [],
      "source": [
        "import tensorflow as tf\n",
        "from tensorflow.keras.layers import Embedding, Conv1D, MaxPooling1D, LSTM, Dense, Dropout\n",
        "from tensorflow.keras.models import Sequential\n",
        "\n",
        "# Convert lists to numpy arrays\n",
        "training_sequences = np.array(training_sequences)\n",
        "training_labels = np.array(training_labels)\n",
        "test_sequences = np.array(test_sequences)\n",
        "test_labels = np.array(test_labels)\n",
        "\n",
        "\n",
        "model = tf.keras.Sequential([\n",
        "    tf.keras.layers.Embedding(vocab_size+1, embedding_dim, input_length=max_length, weights=[embeddings_matrix], trainable=False),\n",
        "    # YOUR CODE HERE - experiment with combining different types, such as convolutions and LSTMs\n",
        "    Conv1D(filters=128, kernel_size=5, activation='relu'),\n",
        "    MaxPooling1D(pool_size=4),\n",
        "    Dropout(0.5),\n",
        "    LSTM(units=64),\n",
        "    Dropout(0.5),\n",
        "    Dense(units=64, activation='relu'),\n",
        "    Dense(units=1, activation='sigmoid')\n",
        "])\n",
        "\n",
        "\n"
      ]
    },
    {
      "cell_type": "code",
      "source": [
        "from tensorflow.keras.callbacks import EarlyStopping, ModelCheckpoint\n",
        "\n",
        "model.compile(optimizer='adam',\n",
        "              loss='binary_crossentropy',\n",
        "              metrics=['accuracy'])\n",
        "model.summary()\n",
        "\n",
        "num_epochs = 50\n",
        "\n",
        "early_stop = EarlyStopping(\n",
        "    monitor ='val_loss',\n",
        "    patience = 10,\n",
        "    verbose = 1,\n",
        "    restore_best_weights = True\n",
        ")\n",
        "\n",
        "history = model.fit(training_sequences, training_labels, epochs=num_epochs, validation_data=(test_sequences, test_labels), callbacks = [early_stop], verbose=2)\n",
        "\n",
        "print(\"Training Complete\")"
      ],
      "metadata": {
        "colab": {
          "base_uri": "https://localhost:8080/"
        },
        "id": "RwuoSH4PrfhS",
        "outputId": "f2b56b71-5806-49c0-f132-c0258ef2d6f3"
      },
      "execution_count": 35,
      "outputs": [
        {
          "output_type": "stream",
          "name": "stdout",
          "text": [
            "Model: \"sequential_4\"\n",
            "_________________________________________________________________\n",
            " Layer (type)                Output Shape              Param #   \n",
            "=================================================================\n",
            " embedding_6 (Embedding)     (None, 16, 100)           13857100  \n",
            "                                                                 \n",
            " conv1d_5 (Conv1D)           (None, 12, 128)           64128     \n",
            "                                                                 \n",
            " max_pooling1d_5 (MaxPoolin  (None, 3, 128)            0         \n",
            " g1D)                                                            \n",
            "                                                                 \n",
            " dropout (Dropout)           (None, 3, 128)            0         \n",
            "                                                                 \n",
            " lstm_4 (LSTM)               (None, 64)                49408     \n",
            "                                                                 \n",
            " dropout_1 (Dropout)         (None, 64)                0         \n",
            "                                                                 \n",
            " dense_4 (Dense)             (None, 64)                4160      \n",
            "                                                                 \n",
            " dense_5 (Dense)             (None, 1)                 65        \n",
            "                                                                 \n",
            "=================================================================\n",
            "Total params: 13974861 (53.31 MB)\n",
            "Trainable params: 117761 (460.00 KB)\n",
            "Non-trainable params: 13857100 (52.86 MB)\n",
            "_________________________________________________________________\n",
            "Epoch 1/50\n",
            "4500/4500 - 28s - loss: 0.5770 - accuracy: 0.6928 - val_loss: 0.5301 - val_accuracy: 0.7276 - 28s/epoch - 6ms/step\n",
            "Epoch 2/50\n",
            "4500/4500 - 20s - loss: 0.5362 - accuracy: 0.7288 - val_loss: 0.5160 - val_accuracy: 0.7442 - 20s/epoch - 4ms/step\n",
            "Epoch 3/50\n",
            "4500/4500 - 20s - loss: 0.5204 - accuracy: 0.7394 - val_loss: 0.5025 - val_accuracy: 0.7502 - 20s/epoch - 4ms/step\n",
            "Epoch 4/50\n",
            "4500/4500 - 22s - loss: 0.5098 - accuracy: 0.7475 - val_loss: 0.4983 - val_accuracy: 0.7541 - 22s/epoch - 5ms/step\n",
            "Epoch 5/50\n",
            "4500/4500 - 21s - loss: 0.5021 - accuracy: 0.7531 - val_loss: 0.5000 - val_accuracy: 0.7563 - 21s/epoch - 5ms/step\n",
            "Epoch 6/50\n",
            "4500/4500 - 20s - loss: 0.4963 - accuracy: 0.7555 - val_loss: 0.4957 - val_accuracy: 0.7611 - 20s/epoch - 4ms/step\n",
            "Epoch 7/50\n",
            "4500/4500 - 20s - loss: 0.4881 - accuracy: 0.7629 - val_loss: 0.4919 - val_accuracy: 0.7579 - 20s/epoch - 4ms/step\n",
            "Epoch 8/50\n",
            "4500/4500 - 21s - loss: 0.4837 - accuracy: 0.7657 - val_loss: 0.4878 - val_accuracy: 0.7639 - 21s/epoch - 5ms/step\n",
            "Epoch 9/50\n",
            "4500/4500 - 21s - loss: 0.4805 - accuracy: 0.7671 - val_loss: 0.4909 - val_accuracy: 0.7587 - 21s/epoch - 5ms/step\n",
            "Epoch 10/50\n",
            "4500/4500 - 20s - loss: 0.4768 - accuracy: 0.7702 - val_loss: 0.4866 - val_accuracy: 0.7629 - 20s/epoch - 4ms/step\n",
            "Epoch 11/50\n",
            "4500/4500 - 20s - loss: 0.4722 - accuracy: 0.7737 - val_loss: 0.4850 - val_accuracy: 0.7646 - 20s/epoch - 4ms/step\n",
            "Epoch 12/50\n",
            "4500/4500 - 22s - loss: 0.4687 - accuracy: 0.7753 - val_loss: 0.4869 - val_accuracy: 0.7608 - 22s/epoch - 5ms/step\n",
            "Epoch 13/50\n",
            "4500/4500 - 21s - loss: 0.4651 - accuracy: 0.7788 - val_loss: 0.4846 - val_accuracy: 0.7631 - 21s/epoch - 5ms/step\n",
            "Epoch 14/50\n",
            "4500/4500 - 20s - loss: 0.4613 - accuracy: 0.7810 - val_loss: 0.4910 - val_accuracy: 0.7602 - 20s/epoch - 4ms/step\n",
            "Epoch 15/50\n",
            "4500/4500 - 20s - loss: 0.4596 - accuracy: 0.7822 - val_loss: 0.4889 - val_accuracy: 0.7587 - 20s/epoch - 4ms/step\n",
            "Epoch 16/50\n",
            "4500/4500 - 21s - loss: 0.4561 - accuracy: 0.7849 - val_loss: 0.4844 - val_accuracy: 0.7684 - 21s/epoch - 5ms/step\n",
            "Epoch 17/50\n",
            "4500/4500 - 21s - loss: 0.4540 - accuracy: 0.7853 - val_loss: 0.4837 - val_accuracy: 0.7669 - 21s/epoch - 5ms/step\n",
            "Epoch 18/50\n",
            "4500/4500 - 20s - loss: 0.4521 - accuracy: 0.7868 - val_loss: 0.4877 - val_accuracy: 0.7642 - 20s/epoch - 4ms/step\n",
            "Epoch 19/50\n",
            "4500/4500 - 20s - loss: 0.4488 - accuracy: 0.7890 - val_loss: 0.4872 - val_accuracy: 0.7610 - 20s/epoch - 4ms/step\n",
            "Epoch 20/50\n",
            "4500/4500 - 22s - loss: 0.4478 - accuracy: 0.7892 - val_loss: 0.4876 - val_accuracy: 0.7651 - 22s/epoch - 5ms/step\n",
            "Epoch 21/50\n",
            "4500/4500 - 21s - loss: 0.4464 - accuracy: 0.7905 - val_loss: 0.4881 - val_accuracy: 0.7632 - 21s/epoch - 5ms/step\n",
            "Epoch 22/50\n",
            "4500/4500 - 20s - loss: 0.4437 - accuracy: 0.7914 - val_loss: 0.4882 - val_accuracy: 0.7645 - 20s/epoch - 4ms/step\n",
            "Epoch 23/50\n",
            "4500/4500 - 20s - loss: 0.4413 - accuracy: 0.7946 - val_loss: 0.4869 - val_accuracy: 0.7669 - 20s/epoch - 4ms/step\n",
            "Epoch 24/50\n",
            "4500/4500 - 21s - loss: 0.4402 - accuracy: 0.7946 - val_loss: 0.4902 - val_accuracy: 0.7634 - 21s/epoch - 5ms/step\n",
            "Epoch 25/50\n",
            "4500/4500 - 21s - loss: 0.4371 - accuracy: 0.7965 - val_loss: 0.4857 - val_accuracy: 0.7651 - 21s/epoch - 5ms/step\n",
            "Epoch 26/50\n",
            "4500/4500 - 20s - loss: 0.4361 - accuracy: 0.7962 - val_loss: 0.4837 - val_accuracy: 0.7674 - 20s/epoch - 5ms/step\n",
            "Epoch 27/50\n",
            "Restoring model weights from the end of the best epoch: 17.\n",
            "4500/4500 - 20s - loss: 0.4351 - accuracy: 0.7979 - val_loss: 0.4880 - val_accuracy: 0.7653 - 20s/epoch - 4ms/step\n",
            "Epoch 27: early stopping\n",
            "Training Complete\n"
          ]
        }
      ]
    },
    {
      "cell_type": "code",
      "execution_count": 36,
      "metadata": {
        "id": "qxju4ItJKO8F",
        "colab": {
          "base_uri": "https://localhost:8080/",
          "height": 962
        },
        "outputId": "8a48da2f-de55-41de-aed4-ff064014ca62"
      },
      "outputs": [
        {
          "output_type": "execute_result",
          "data": {
            "text/plain": [
              "<Figure size 640x480 with 0 Axes>"
            ]
          },
          "metadata": {},
          "execution_count": 36
        },
        {
          "output_type": "display_data",
          "data": {
            "text/plain": [
              "<Figure size 640x480 with 1 Axes>"
            ],
            "image/png": "[encoded data removed]"
          },
          "metadata": {}
        },
        {
          "output_type": "display_data",
          "data": {
            "text/plain": [
              "<Figure size 640x480 with 1 Axes>"
            ],
            "image/png": "[encoded data removed]"
          },
          "metadata": {}
        },
        {
          "output_type": "display_data",
          "data": {
            "text/plain": [
              "<Figure size 640x480 with 0 Axes>"
            ]
          },
          "metadata": {}
        }
      ],
      "source": [
        "import matplotlib.image  as mpimg\n",
        "import matplotlib.pyplot as plt\n",
        "\n",
        "#-----------------------------------------------------------\n",
        "# Retrieve a list of list results on training and test data\n",
        "# sets for each training epoch\n",
        "#-----------------------------------------------------------\n",
        "acc=history.history['accuracy']\n",
        "val_acc=history.history['val_accuracy']\n",
        "loss=history.history['loss']\n",
        "val_loss=history.history['val_loss']\n",
        "\n",
        "epochs=range(len(acc)) # Get number of epochs\n",
        "\n",
        "#------------------------------------------------\n",
        "# Plot training and validation accuracy per epoch\n",
        "#------------------------------------------------\n",
        "plt.plot(epochs, acc, 'r')\n",
        "plt.plot(epochs, val_acc, 'b')\n",
        "plt.title('Training and validation accuracy')\n",
        "plt.xlabel(\"Epochs\")\n",
        "plt.ylabel(\"Accuracy\")\n",
        "plt.legend([\"Accuracy\", \"Validation Accuracy\"])\n",
        "\n",
        "plt.figure()\n",
        "\n",
        "#------------------------------------------------\n",
        "# Plot training and validation loss per epoch\n",
        "#------------------------------------------------\n",
        "plt.plot(epochs, loss, 'r')\n",
        "plt.plot(epochs, val_loss, 'b')\n",
        "plt.title('Training and validation loss')\n",
        "plt.xlabel(\"Epochs\")\n",
        "plt.ylabel(\"Loss\")\n",
        "plt.legend([\"Loss\", \"Validation Loss\"])\n",
        "\n",
        "plt.figure()\n",
        "\n",
        "\n",
        "# Expected Output\n",
        "# A chart where the validation loss does not increase sharply!"
      ]
    }
  ],
  "metadata": {
    "accelerator": "GPU",
    "colab": {
      "provenance": []
    },
    "kernelspec": {
      "display_name": "Python 3 (ipykernel)",
      "language": "python",
      "name": "python3"
    },
    "language_info": {
      "codemirror_mode": {
        "name": "ipython",
        "version": 3
      },
      "file_extension": ".py",
      "mimetype": "text/x-python",
      "name": "python",
      "nbconvert_exporter": "python",
      "pygments_lexer": "ipython3",
      "version": "3.11.7"
    }
  },
  "nbformat": 4,
  "nbformat_minor": 0
}